{
 "cells": [
  {
   "cell_type": "markdown",
   "metadata": {},
   "source": [
    "# This script uses the csv for analysis and figure generation"
   ]
  },
  {
   "cell_type": "code",
   "execution_count": null,
   "metadata": {},
   "outputs": [],
   "source": [
    "import numpy as np\n",
    "import pandas as pd\n",
    "import csv\n",
    "import string\n",
    "import matplotlib.pyplot as plt\n",
    "import matplotlib\n",
    "import seaborn as sns\n",
    "import filecmp\n",
    "from scipy import stats\n",
    "import re"
   ]
  },
  {
   "cell_type": "code",
   "execution_count": null,
   "metadata": {},
   "outputs": [],
   "source": [
    "#### POST-PROCESSING ###################\n",
    "def pivot_pos_aa(master):\n",
    "#Generate table of positions of amino acids.  \n",
    "#In this table, contain the number of summed number of reads with that amino acid at that position\n",
    "    position_n = ['0','1','2','3','4','5','6','7','8']\n",
    "    index_x = ['A','C','D','E','F','G','H','I','K','L','M','N','P','Q','R','S','T','V','W','Y']\n",
    "    \n",
    "    # Weighted by read counts\n",
    "    pivot = pd.DataFrame(columns=position_n, index=index_x)\n",
    "    for i in position_n:\n",
    "        for j in index_x:\n",
    "            pivot[i][j]=np.sum((master[int(i)]==j)*master['count']) \n",
    "                #Explanation: (master[int(i)]==j) is 0's except where master has amino acid j at position i (then it is a 1)\n",
    "    return pivot\n",
    "\n",
    "\n",
    "\n",
    "def heatmaps_discrete(pivot_norm, roundx, title, cbar_label, labels, bins, xlabel='', ylabel=''):\n",
    "#normalized data (input) shown with DISCRETE colorbar\n",
    "    #Generate discrete dataframe\n",
    "    position_n = list(pivot_norm.columns.values)\n",
    "    index_x = list(pivot_norm.index.values)\n",
    "    n_bins = np.size(bins)-1\n",
    "    bin_color =  list(range(0, n_bins+1))\n",
    "    pivot_discrete = pd.DataFrame(columns=position_n, index=index_x)\n",
    "\n",
    "    for x in range(1,n_bins+1):\n",
    "        for i in position_n:\n",
    "            for j in index_x:\n",
    "                if pivot_norm[i][j]<=bins[x] and pivot_norm[i][j]>bins[x-1]:\n",
    "                    pivot_discrete[i][j] = 0.5*(bin_color[x]+bin_color[x-1]) #this puts the value in the middle of a bin\n",
    "\n",
    "    plt.figure(figsize=(12,15)) #adjust size of figure\n",
    "    ax=sns.heatmap(pivot_discrete.astype(float),cbar_kws={'label': cbar_label},vmin=0,vmax=n_bins,cmap=plt.cm.get_cmap('Blues', n_bins))#, square=True)\n",
    "    \n",
    "    font_size = 35\n",
    "    ax.set_xticklabels(labels,fontsize=font_size)\n",
    "    ax.set_title(roundx+': '+title+'\\n',y=1.08,fontsize=font_size)\n",
    "    \n",
    "    \n",
    "    #test:\n",
    "    ax.set_yticklabels(['A','C','D','E','F','G','H','I','K','L','M','N','P','Q','R','S','T','V','W','Y'],horizontalalignment='center', fontsize=font_size)\n",
    "    ax.tick_params(axis='both', pad=25,length=0)\n",
    "    \n",
    "    ax.figure.axes[-1].yaxis.label.set_size(font_size) #colorbar label\n",
    "    \n",
    "    \n",
    "    colorbar = ax.collections[0].colorbar\n",
    "    colorbar.set_ticks(bin_color)\n",
    "    colorbar.set_ticklabels(bins)\n",
    "    colorbar.ax.tick_params(labelsize=font_size) #fontsize for colorbar numbers\n",
    "    plt.yticks(rotation=0) #makes text not rotated\n",
    "    plt.xlabel(xlabel)\n",
    "    #plt.ylabel(ylabel,horizontalalignment='left',fontsize='x-large')\n",
    "    plt.ylabel(ylabel)\n",
    "    #plt.savefig(roundx+'_'+title_save+'_norm_discrete.png')\n",
    "    plt.show()\n",
    "    \n",
    "      \n",
    "        \n",
    "def call_heatmaps(pivot, roundx, title, cbar_label): #saves options for heatmaps of position vs aa\n",
    "#Generates both continous and discrete heatmaps\n",
    "    bins = [0, 0.01, 0.05, 0.1, 0.2, 0.5, 1] #bins for discrete colorbar\n",
    "    labels = ['1','2','3','4','5','6','7','8','9']\n",
    "    pivot_norm = pivot/pivot.sum(0)[0]\n",
    "    heatmaps_discrete(pivot_norm, roundx, title, cbar_label, labels, bins)\n",
    "\n",
    "        \n",
    "\n",
    "    \n",
    "## Call other functions ###############\n",
    "def do_it(file_name, roundx):\n",
    "    master_nostop = pd.read_csv(file_name+'.csv')\n",
    "    master_nostop = master_nostop[~master_nostop['sequence'].str.contains('*',regex=False)] #remove stop codons\n",
    "    for i in range(0,9):\n",
    "        master_nostop[i]=master_nostop['sequence'].str[i]\n",
    "   \n",
    "    #make column headers to numbers not strings:\n",
    "    #master_nostop.rename(columns={'0':0, '1':1, '2':2, '3':3, '4':4,'5':5,'6':6,'7':7,'8':8}, inplace=True)\n",
    "\n",
    "    pivot = pivot_pos_aa(master_nostop)\n",
    "    \n",
    "    #Generate heatmaps for weighted by read counts\n",
    "    call_heatmaps(pivot, \n",
    "             roundx,\n",
    "             title='Peptides Weighted by Read Count',\n",
    "             cbar_label='Fraction of Reads')#'Proportion of Reads')\n",
    "    \n",
    "    return pivot"
   ]
  },
  {
   "cell_type": "code",
   "execution_count": null,
   "metadata": {
    "scrolled": false
   },
   "outputs": [],
   "source": [
    "for roundx in ['A3','C3','R0','A2','C2','A1','C1','AA4','AC4','CA4','CC4']:\n",
    "    print('Analyzing round', roundx)\n",
    "    file_name = '3312{}_cdhit-corrected_data'.format(roundx)\n",
    "    pivot=do_it(file_name,roundx)"
   ]
  },
  {
   "cell_type": "code",
   "execution_count": null,
   "metadata": {},
   "outputs": [],
   "source": []
  },
  {
   "cell_type": "code",
   "execution_count": null,
   "metadata": {},
   "outputs": [],
   "source": []
  }
 ],
 "metadata": {
  "kernelspec": {
   "display_name": "Python 3",
   "language": "python",
   "name": "python3"
  },
  "language_info": {
   "codemirror_mode": {
    "name": "ipython",
    "version": 3
   },
   "file_extension": ".py",
   "mimetype": "text/x-python",
   "name": "python",
   "nbconvert_exporter": "python",
   "pygments_lexer": "ipython3",
   "version": "3.7.3"
  }
 },
 "nbformat": 4,
 "nbformat_minor": 2
}
